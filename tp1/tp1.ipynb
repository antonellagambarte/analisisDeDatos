{
 "cells": [
  {
   "cell_type": "markdown",
   "id": "7433419d",
   "metadata": {},
   "source": [
    "# <center>**Trabajo Práctico Número 1**</center>\n",
    "\n",
    "### <center>**Recorridos en Ecobicis - Año 2024**</center>\n",
    "\n",
    "#### <center>Análisis de datos - CEIA, Fiuba</center>\n",
    "\n",
    "---\n",
    "\n",
    "**Integrantes del grupo**\n",
    "\n",
    "- Espínola, Carla\n",
    "- Gambarte, Antonella\n",
    "\n",
    "---\n"
   ]
  },
  {
   "cell_type": "markdown",
   "id": "7dd9dbc5",
   "metadata": {},
   "source": [
    "### Bibliotecas\n"
   ]
  },
  {
   "cell_type": "code",
   "execution_count": 202,
   "id": "50696fa4",
   "metadata": {},
   "outputs": [],
   "source": [
    "import pandas as pd"
   ]
  },
  {
   "cell_type": "markdown",
   "id": "1e1acbf0",
   "metadata": {},
   "source": [
    "### Carga de datos desde archivo cvs\n"
   ]
  },
  {
   "cell_type": "code",
   "execution_count": 203,
   "id": "2379fbf1",
   "metadata": {},
   "outputs": [
    {
     "data": {
      "text/html": [
       "<div>\n",
       "<style scoped>\n",
       "    .dataframe tbody tr th:only-of-type {\n",
       "        vertical-align: middle;\n",
       "    }\n",
       "\n",
       "    .dataframe tbody tr th {\n",
       "        vertical-align: top;\n",
       "    }\n",
       "\n",
       "    .dataframe thead th {\n",
       "        text-align: right;\n",
       "    }\n",
       "</style>\n",
       "<table border=\"1\" class=\"dataframe\">\n",
       "  <thead>\n",
       "    <tr style=\"text-align: right;\">\n",
       "      <th></th>\n",
       "      <th>id_recorrido</th>\n",
       "      <th>duracion_recorrido</th>\n",
       "      <th>fecha_origen_recorrido</th>\n",
       "      <th>id_estacion_origen</th>\n",
       "      <th>nombre_estacion_origen</th>\n",
       "      <th>direccion_estacion_origen</th>\n",
       "      <th>long_estacion_origen</th>\n",
       "      <th>lat_estacion_origen</th>\n",
       "      <th>fecha_destino_recorrido</th>\n",
       "      <th>id_estacion_destino</th>\n",
       "      <th>nombre_estacion_destino</th>\n",
       "      <th>direccion_estacion_destino</th>\n",
       "      <th>long_estacion_destino</th>\n",
       "      <th>lat_estacion_destino</th>\n",
       "      <th>id_usuario</th>\n",
       "      <th>modelo_bicicleta</th>\n",
       "      <th>genero</th>\n",
       "    </tr>\n",
       "  </thead>\n",
       "  <tbody>\n",
       "    <tr>\n",
       "      <th>0</th>\n",
       "      <td>20428222</td>\n",
       "      <td>568</td>\n",
       "      <td>2024-01-23 18:36:00</td>\n",
       "      <td>513</td>\n",
       "      <td>308 - SAN MARTIN II</td>\n",
       "      <td>Av. San Martín 5129</td>\n",
       "      <td>-58.490739</td>\n",
       "      <td>-34.597130</td>\n",
       "      <td>2024-01-23 18:45:28</td>\n",
       "      <td>498</td>\n",
       "      <td>055 - HABANA</td>\n",
       "      <td>Gral. José Gervasio Artigas 4298 (y Habana)</td>\n",
       "      <td>-58.494959</td>\n",
       "      <td>-34.586598</td>\n",
       "      <td>992557.0</td>\n",
       "      <td>FIT</td>\n",
       "      <td>MALE</td>\n",
       "    </tr>\n",
       "    <tr>\n",
       "      <th>1</th>\n",
       "      <td>20431744</td>\n",
       "      <td>1355</td>\n",
       "      <td>2024-01-23 22:41:20</td>\n",
       "      <td>460</td>\n",
       "      <td>133 - BEIRO Y SEGUROLA</td>\n",
       "      <td>Segurola 3194</td>\n",
       "      <td>-58.511930</td>\n",
       "      <td>-34.607500</td>\n",
       "      <td>2024-01-23 23:03:55</td>\n",
       "      <td>382</td>\n",
       "      <td>204 - Biarritz</td>\n",
       "      <td>Biarritz 2403</td>\n",
       "      <td>-58.477255</td>\n",
       "      <td>-34.605431</td>\n",
       "      <td>320782.0</td>\n",
       "      <td>FIT</td>\n",
       "      <td>FEMALE</td>\n",
       "    </tr>\n",
       "    <tr>\n",
       "      <th>2</th>\n",
       "      <td>20429936</td>\n",
       "      <td>0</td>\n",
       "      <td>2024-01-23 20:06:22</td>\n",
       "      <td>467</td>\n",
       "      <td>328 - SARMIENTO II</td>\n",
       "      <td>Sarmiento 2037</td>\n",
       "      <td>-58.395893</td>\n",
       "      <td>-34.605514</td>\n",
       "      <td>2024-01-23 20:06:22</td>\n",
       "      <td>6</td>\n",
       "      <td>006 - Parque Lezama</td>\n",
       "      <td>Avenida Martin Garcia, 295</td>\n",
       "      <td>-58.369758</td>\n",
       "      <td>-34.628526</td>\n",
       "      <td>828678.0</td>\n",
       "      <td>FIT</td>\n",
       "      <td>FEMALE</td>\n",
       "    </tr>\n",
       "    <tr>\n",
       "      <th>3</th>\n",
       "      <td>20429976</td>\n",
       "      <td>0</td>\n",
       "      <td>2024-01-23 20:08:17</td>\n",
       "      <td>382</td>\n",
       "      <td>204 - Biarritz</td>\n",
       "      <td>Biarritz 2403</td>\n",
       "      <td>-58.477255</td>\n",
       "      <td>-34.605431</td>\n",
       "      <td>2024-01-23 20:08:17</td>\n",
       "      <td>460</td>\n",
       "      <td>133 - BEIRO Y SEGUROLA</td>\n",
       "      <td>Segurola 3194</td>\n",
       "      <td>-58.511930</td>\n",
       "      <td>-34.607500</td>\n",
       "      <td>320782.0</td>\n",
       "      <td>ICONIC</td>\n",
       "      <td>FEMALE</td>\n",
       "    </tr>\n",
       "    <tr>\n",
       "      <th>4</th>\n",
       "      <td>20424802</td>\n",
       "      <td>680</td>\n",
       "      <td>2024-01-23 15:18:39</td>\n",
       "      <td>137</td>\n",
       "      <td>137 - AZOPARDO Y CHILE</td>\n",
       "      <td>AZOPARDO 700</td>\n",
       "      <td>-58.367492</td>\n",
       "      <td>-34.615598</td>\n",
       "      <td>2024-01-23 15:29:59</td>\n",
       "      <td>150</td>\n",
       "      <td>150 - RODRIGO BUENO</td>\n",
       "      <td>Av. España 2200</td>\n",
       "      <td>-58.355465</td>\n",
       "      <td>-34.618755</td>\n",
       "      <td>861425.0</td>\n",
       "      <td>FIT</td>\n",
       "      <td>FEMALE</td>\n",
       "    </tr>\n",
       "  </tbody>\n",
       "</table>\n",
       "</div>"
      ],
      "text/plain": [
       "   id_recorrido  duracion_recorrido fecha_origen_recorrido  \\\n",
       "0      20428222                 568    2024-01-23 18:36:00   \n",
       "1      20431744                1355    2024-01-23 22:41:20   \n",
       "2      20429936                   0    2024-01-23 20:06:22   \n",
       "3      20429976                   0    2024-01-23 20:08:17   \n",
       "4      20424802                 680    2024-01-23 15:18:39   \n",
       "\n",
       "   id_estacion_origen  nombre_estacion_origen direccion_estacion_origen  \\\n",
       "0                 513     308 - SAN MARTIN II       Av. San Martín 5129   \n",
       "1                 460  133 - BEIRO Y SEGUROLA             Segurola 3194   \n",
       "2                 467      328 - SARMIENTO II            Sarmiento 2037   \n",
       "3                 382          204 - Biarritz             Biarritz 2403   \n",
       "4                 137  137 - AZOPARDO Y CHILE              AZOPARDO 700   \n",
       "\n",
       "   long_estacion_origen  lat_estacion_origen fecha_destino_recorrido  \\\n",
       "0            -58.490739           -34.597130     2024-01-23 18:45:28   \n",
       "1            -58.511930           -34.607500     2024-01-23 23:03:55   \n",
       "2            -58.395893           -34.605514     2024-01-23 20:06:22   \n",
       "3            -58.477255           -34.605431     2024-01-23 20:08:17   \n",
       "4            -58.367492           -34.615598     2024-01-23 15:29:59   \n",
       "\n",
       "   id_estacion_destino nombre_estacion_destino  \\\n",
       "0                  498            055 - HABANA   \n",
       "1                  382          204 - Biarritz   \n",
       "2                    6     006 - Parque Lezama   \n",
       "3                  460  133 - BEIRO Y SEGUROLA   \n",
       "4                  150     150 - RODRIGO BUENO   \n",
       "\n",
       "                    direccion_estacion_destino  long_estacion_destino  \\\n",
       "0  Gral. José Gervasio Artigas 4298 (y Habana)             -58.494959   \n",
       "1                                Biarritz 2403             -58.477255   \n",
       "2                   Avenida Martin Garcia, 295             -58.369758   \n",
       "3                                Segurola 3194             -58.511930   \n",
       "4                              Av. España 2200             -58.355465   \n",
       "\n",
       "   lat_estacion_destino  id_usuario modelo_bicicleta  genero  \n",
       "0            -34.586598    992557.0              FIT    MALE  \n",
       "1            -34.605431    320782.0              FIT  FEMALE  \n",
       "2            -34.628526    828678.0              FIT  FEMALE  \n",
       "3            -34.607500    320782.0           ICONIC  FEMALE  \n",
       "4            -34.618755    861425.0              FIT  FEMALE  "
      ]
     },
     "execution_count": 203,
     "metadata": {},
     "output_type": "execute_result"
    }
   ],
   "source": [
    "df_recorridos = pd.read_csv(\"../badata_ecobici_recorridos_realizados_2024.csv\")\n",
    "df_recorridos.head()"
   ]
  },
  {
   "cell_type": "markdown",
   "id": "c0e71c80",
   "metadata": {},
   "source": [
    "### Shape del dataframe y nombre de columnas\n"
   ]
  },
  {
   "cell_type": "code",
   "execution_count": 204,
   "id": "213c3a8b",
   "metadata": {},
   "outputs": [
    {
     "name": "stdout",
     "output_type": "stream",
     "text": [
      "El DataFrame tiene 3559284 observaciones y 17 variables.\n"
     ]
    }
   ],
   "source": [
    "filas,columnas = df_recorridos.shape\n",
    "print(f\"El DataFrame tiene {filas} observaciones y {columnas} variables.\")"
   ]
  },
  {
   "cell_type": "code",
   "execution_count": 205,
   "id": "7991db4e",
   "metadata": {},
   "outputs": [
    {
     "name": "stdout",
     "output_type": "stream",
     "text": [
      "Nombre de las variables:\n",
      "1. id_recorrido\n",
      "2. duracion_recorrido\n",
      "3. fecha_origen_recorrido\n",
      "4. id_estacion_origen\n",
      "5. nombre_estacion_origen\n",
      "6. direccion_estacion_origen\n",
      "7. long_estacion_origen\n",
      "8. lat_estacion_origen\n",
      "9. fecha_destino_recorrido\n",
      "10. id_estacion_destino\n",
      "11. nombre_estacion_destino\n",
      "12. direccion_estacion_destino\n",
      "13. long_estacion_destino\n",
      "14. lat_estacion_destino\n",
      "15. id_usuario\n",
      "16. modelo_bicicleta\n",
      "17. genero\n"
     ]
    }
   ],
   "source": [
    "print(\"Nombre de las variables:\")\n",
    "\n",
    "for i, col in enumerate(df_recorridos.columns):\n",
    "    print(f\"{i+1}. {col}\")"
   ]
  },
  {
   "cell_type": "markdown",
   "id": "b5132a9a",
   "metadata": {},
   "source": [
    "### Tipos de datos de cada variable\n"
   ]
  },
  {
   "cell_type": "code",
   "execution_count": 206,
   "id": "f2cf7508",
   "metadata": {},
   "outputs": [
    {
     "name": "stdout",
     "output_type": "stream",
     "text": [
      "Columnas del dataframe:\n",
      "id_recorrido                    int64\n",
      "duracion_recorrido              int64\n",
      "fecha_origen_recorrido         object\n",
      "id_estacion_origen              int64\n",
      "nombre_estacion_origen         object\n",
      "direccion_estacion_origen      object\n",
      "long_estacion_origen          float64\n",
      "lat_estacion_origen           float64\n",
      "fecha_destino_recorrido        object\n",
      "id_estacion_destino             int64\n",
      "nombre_estacion_destino        object\n",
      "direccion_estacion_destino     object\n",
      "long_estacion_destino         float64\n",
      "lat_estacion_destino          float64\n",
      "id_usuario                    float64\n",
      "modelo_bicicleta               object\n",
      "genero                         object\n",
      "dtype: object\n",
      "\n"
     ]
    }
   ],
   "source": [
    "print(f\"Columnas del dataframe:\\n{df_recorridos.dtypes}\\n\")"
   ]
  },
  {
   "cell_type": "markdown",
   "id": "754d127b",
   "metadata": {},
   "source": [
    "### Para las fechas hacemos conversión\n"
   ]
  },
  {
   "cell_type": "code",
   "execution_count": 207,
   "id": "a0e1e2c9",
   "metadata": {},
   "outputs": [
    {
     "name": "stdout",
     "output_type": "stream",
     "text": [
      "Columnas del dataframe:\n",
      "id_recorrido                           int64\n",
      "duracion_recorrido                     int64\n",
      "fecha_origen_recorrido        datetime64[ns]\n",
      "id_estacion_origen                     int64\n",
      "nombre_estacion_origen                object\n",
      "direccion_estacion_origen             object\n",
      "long_estacion_origen                 float64\n",
      "lat_estacion_origen                  float64\n",
      "fecha_destino_recorrido       datetime64[ns]\n",
      "id_estacion_destino                    int64\n",
      "nombre_estacion_destino               object\n",
      "direccion_estacion_destino            object\n",
      "long_estacion_destino                float64\n",
      "lat_estacion_destino                 float64\n",
      "id_usuario                           float64\n",
      "modelo_bicicleta                      object\n",
      "genero                                object\n",
      "dtype: object\n",
      "\n"
     ]
    }
   ],
   "source": [
    "df_recorridos['fecha_destino_recorrido'] = pd.to_datetime(df_recorridos['fecha_destino_recorrido'])\n",
    "df_recorridos['fecha_origen_recorrido'] = pd.to_datetime(df_recorridos['fecha_origen_recorrido'])\n",
    "\n",
    "print(f\"Columnas del dataframe:\\n{df_recorridos.dtypes}\\n\")"
   ]
  },
  {
   "cell_type": "markdown",
   "id": "069d6f14",
   "metadata": {},
   "source": [
    "### Ahora comprobamos si existen observaciones duplicadas\n"
   ]
  },
  {
   "cell_type": "code",
   "execution_count": 208,
   "id": "76b324eb",
   "metadata": {},
   "outputs": [
    {
     "name": "stdout",
     "output_type": "stream",
     "text": [
      "Cantidad de datos duplicados: 1\n"
     ]
    }
   ],
   "source": [
    "print(\"Cantidad de datos duplicados:\", df_recorridos.duplicated().sum())"
   ]
  },
  {
   "cell_type": "code",
   "execution_count": 209,
   "id": "f62e8b08",
   "metadata": {},
   "outputs": [
    {
     "name": "stdout",
     "output_type": "stream",
     "text": [
      "Datos de duplicado:\n",
      "\n"
     ]
    },
    {
     "data": {
      "text/html": [
       "<div>\n",
       "<style scoped>\n",
       "    .dataframe tbody tr th:only-of-type {\n",
       "        vertical-align: middle;\n",
       "    }\n",
       "\n",
       "    .dataframe tbody tr th {\n",
       "        vertical-align: top;\n",
       "    }\n",
       "\n",
       "    .dataframe thead th {\n",
       "        text-align: right;\n",
       "    }\n",
       "</style>\n",
       "<table border=\"1\" class=\"dataframe\">\n",
       "  <thead>\n",
       "    <tr style=\"text-align: right;\">\n",
       "      <th></th>\n",
       "      <th>id_recorrido</th>\n",
       "      <th>duracion_recorrido</th>\n",
       "      <th>fecha_origen_recorrido</th>\n",
       "      <th>id_estacion_origen</th>\n",
       "      <th>nombre_estacion_origen</th>\n",
       "      <th>direccion_estacion_origen</th>\n",
       "      <th>long_estacion_origen</th>\n",
       "      <th>lat_estacion_origen</th>\n",
       "      <th>fecha_destino_recorrido</th>\n",
       "      <th>id_estacion_destino</th>\n",
       "      <th>nombre_estacion_destino</th>\n",
       "      <th>direccion_estacion_destino</th>\n",
       "      <th>long_estacion_destino</th>\n",
       "      <th>lat_estacion_destino</th>\n",
       "      <th>id_usuario</th>\n",
       "      <th>modelo_bicicleta</th>\n",
       "      <th>genero</th>\n",
       "    </tr>\n",
       "  </thead>\n",
       "  <tbody>\n",
       "    <tr>\n",
       "      <th>434350</th>\n",
       "      <td>22425357</td>\n",
       "      <td>1119</td>\n",
       "      <td>2024-07-23 12:30:30</td>\n",
       "      <td>104</td>\n",
       "      <td>104 - Federico Lacroze</td>\n",
       "      <td>Av. Guzman 1100 &amp; Av. Corrientes</td>\n",
       "      <td>-58.455212</td>\n",
       "      <td>-34.587617</td>\n",
       "      <td>2024-07-23 12:49:09</td>\n",
       "      <td>402</td>\n",
       "      <td>-- CDO Chacarita -- (Temporal)</td>\n",
       "      <td>3209 Av. Francisco Beiro</td>\n",
       "      <td>-58.498542</td>\n",
       "      <td>-34.597612</td>\n",
       "      <td>1039158.0</td>\n",
       "      <td>FIT</td>\n",
       "      <td>MALE</td>\n",
       "    </tr>\n",
       "    <tr>\n",
       "      <th>434351</th>\n",
       "      <td>22425357</td>\n",
       "      <td>1119</td>\n",
       "      <td>2024-07-23 12:30:30</td>\n",
       "      <td>104</td>\n",
       "      <td>104 - Federico Lacroze</td>\n",
       "      <td>Av. Guzman 1100 &amp; Av. Corrientes</td>\n",
       "      <td>-58.455212</td>\n",
       "      <td>-34.587617</td>\n",
       "      <td>2024-07-23 12:49:09</td>\n",
       "      <td>402</td>\n",
       "      <td>-- CDO Chacarita -- (Temporal)</td>\n",
       "      <td>3209 Av. Francisco Beiro</td>\n",
       "      <td>-58.498542</td>\n",
       "      <td>-34.597612</td>\n",
       "      <td>1039158.0</td>\n",
       "      <td>FIT</td>\n",
       "      <td>MALE</td>\n",
       "    </tr>\n",
       "  </tbody>\n",
       "</table>\n",
       "</div>"
      ],
      "text/plain": [
       "        id_recorrido  duracion_recorrido fecha_origen_recorrido  \\\n",
       "434350      22425357                1119    2024-07-23 12:30:30   \n",
       "434351      22425357                1119    2024-07-23 12:30:30   \n",
       "\n",
       "        id_estacion_origen  nombre_estacion_origen  \\\n",
       "434350                 104  104 - Federico Lacroze   \n",
       "434351                 104  104 - Federico Lacroze   \n",
       "\n",
       "               direccion_estacion_origen  long_estacion_origen  \\\n",
       "434350  Av. Guzman 1100 & Av. Corrientes            -58.455212   \n",
       "434351  Av. Guzman 1100 & Av. Corrientes            -58.455212   \n",
       "\n",
       "        lat_estacion_origen fecha_destino_recorrido  id_estacion_destino  \\\n",
       "434350           -34.587617     2024-07-23 12:49:09                  402   \n",
       "434351           -34.587617     2024-07-23 12:49:09                  402   \n",
       "\n",
       "               nombre_estacion_destino direccion_estacion_destino  \\\n",
       "434350  -- CDO Chacarita -- (Temporal)   3209 Av. Francisco Beiro   \n",
       "434351  -- CDO Chacarita -- (Temporal)   3209 Av. Francisco Beiro   \n",
       "\n",
       "        long_estacion_destino  lat_estacion_destino  id_usuario  \\\n",
       "434350             -58.498542            -34.597612   1039158.0   \n",
       "434351             -58.498542            -34.597612   1039158.0   \n",
       "\n",
       "       modelo_bicicleta genero  \n",
       "434350              FIT   MALE  \n",
       "434351              FIT   MALE  "
      ]
     },
     "execution_count": 209,
     "metadata": {},
     "output_type": "execute_result"
    }
   ],
   "source": [
    "duplicados = df_recorridos[df_recorridos.duplicated(keep=False)]\n",
    "print(\"Datos de duplicado:\\n\")\n",
    "duplicados.head()\n"
   ]
  },
  {
   "cell_type": "markdown",
   "id": "0c50b78e",
   "metadata": {},
   "source": [
    "### Existe solo un duplicado. Procedemos a eliminarlo.\n"
   ]
  },
  {
   "cell_type": "code",
   "execution_count": 210,
   "id": "684003d5",
   "metadata": {},
   "outputs": [
    {
     "name": "stdout",
     "output_type": "stream",
     "text": [
      "Duplicados después: 0\n"
     ]
    }
   ],
   "source": [
    "df_recorridos = df_recorridos.drop_duplicates()\n",
    "print(\"Duplicados después:\", df_recorridos.duplicated().sum())"
   ]
  },
  {
   "cell_type": "markdown",
   "id": "e94a2508",
   "metadata": {},
   "source": [
    "### Datos faltantes\n"
   ]
  },
  {
   "cell_type": "code",
   "execution_count": 211,
   "id": "6bf8cfde",
   "metadata": {},
   "outputs": [
    {
     "name": "stdout",
     "output_type": "stream",
     "text": [
      "Valores faltantes:\n",
      "id_recorrido                      0\n",
      "duracion_recorrido                0\n",
      "fecha_origen_recorrido            0\n",
      "id_estacion_origen                0\n",
      "nombre_estacion_origen            0\n",
      "direccion_estacion_origen         0\n",
      "long_estacion_origen              0\n",
      "lat_estacion_origen               0\n",
      "fecha_destino_recorrido        3379\n",
      "id_estacion_destino               0\n",
      "nombre_estacion_destino           0\n",
      "direccion_estacion_destino        0\n",
      "long_estacion_destino             0\n",
      "lat_estacion_destino              0\n",
      "id_usuario                        0\n",
      "modelo_bicicleta                  0\n",
      "genero                        11946\n",
      "dtype: int64\n"
     ]
    }
   ],
   "source": [
    "print(f\"Valores faltantes:\\n{df_recorridos.isnull().sum()}\") "
   ]
  },
  {
   "cell_type": "markdown",
   "id": "605c0214",
   "metadata": {},
   "source": [
    "Se observan datos faltantes en las variables fecha_destino_recorrido y genero.\n",
    "Vamos a analizar primero los faltantes de género.\n",
    "\n",
    "De las observaciones que conforman el dataset, armamos dos grupos. Uno con aquellos que contienen la variable genero completa y otro con aquellos que tienen ese campo vacío.\n"
   ]
  },
  {
   "cell_type": "code",
   "execution_count": 212,
   "id": "a024f454",
   "metadata": {},
   "outputs": [],
   "source": [
    "con_genero = df_recorridos[df_recorridos['genero'].notnull()]\n",
    "sin_genero = df_recorridos[df_recorridos['genero'].isnull()]"
   ]
  },
  {
   "cell_type": "markdown",
   "id": "dfb6783b",
   "metadata": {},
   "source": [
    "Primero analizamos los faltantes con respecto al modelo de bicicleta.\n"
   ]
  },
  {
   "cell_type": "code",
   "execution_count": 213,
   "id": "cbaf57fd",
   "metadata": {},
   "outputs": [
    {
     "name": "stdout",
     "output_type": "stream",
     "text": [
      "Distribución modelo_bicicleta (con género):\n",
      "modelo_bicicleta\n",
      "FIT       0.725544\n",
      "ICONIC    0.274456\n",
      "Name: proportion, dtype: float64\n",
      "\n",
      "Distribución modelo_bicicleta (sin género):\n",
      "modelo_bicicleta\n",
      "FIT       0.727775\n",
      "ICONIC    0.272225\n",
      "Name: proportion, dtype: float64\n"
     ]
    }
   ],
   "source": [
    "print(\"Distribución modelo_bicicleta (con género):\")\n",
    "print(con_genero['modelo_bicicleta'].value_counts(normalize=True))\n",
    "\n",
    "print(\"\\nDistribución modelo_bicicleta (sin género):\")\n",
    "print(sin_genero['modelo_bicicleta'].value_counts(normalize=True))"
   ]
  },
  {
   "cell_type": "markdown",
   "id": "60a22bfd",
   "metadata": {},
   "source": [
    "Observamos que la distribución de modelo_bicicleta es prácticamente igual con y sin género. Entonces, el tipo de bicicleta no influye en los faltantes de género.\n"
   ]
  },
  {
   "cell_type": "markdown",
   "id": "68b252d6",
   "metadata": {},
   "source": [
    "---\n"
   ]
  }
 ],
 "metadata": {
  "kernelspec": {
   "display_name": "add-env",
   "language": "python",
   "name": "python3"
  },
  "language_info": {
   "codemirror_mode": {
    "name": "ipython",
    "version": 3
   },
   "file_extension": ".py",
   "mimetype": "text/x-python",
   "name": "python",
   "nbconvert_exporter": "python",
   "pygments_lexer": "ipython3",
   "version": "3.11.13"
  }
 },
 "nbformat": 4,
 "nbformat_minor": 5
}
